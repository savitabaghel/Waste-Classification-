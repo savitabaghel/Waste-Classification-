{
 "cells": [
  {
   "cell_type": "code",
   "execution_count": 6,
   "metadata": {},
   "outputs": [],
   "source": [
    "import numpy as np\n",
    "import matplotlib.pyplot as plt\n",
    "import pandas as pd\n",
    "import tensorflow as tf"
   ]
  },
  {
   "cell_type": "code",
   "execution_count": 7,
   "metadata": {},
   "outputs": [],
   "source": [
    "from keras.preprocessing.image import ImageDataGenerator\n",
    "data_gen=ImageDataGenerator(rescale=1./255,\n",
    "                            shear_range=0.2,\n",
    "                            zoom_range=0.2,\n",
    "                            horizontal_flip=True)"
   ]
  },
  {
   "cell_type": "code",
   "execution_count": 8,
   "metadata": {},
   "outputs": [
    {
     "name": "stdout",
     "output_type": "stream",
     "text": [
      "Found 1768 images belonging to 6 classes.\n",
      "Found 328 images belonging to 6 classes.\n"
     ]
    }
   ],
   "source": [
    "data_path=\"split-garbage-dataset\"\n",
    "\n",
    "train_gen=data_gen.flow_from_directory(data_path + '/train',\n",
    "                                             target_size=(224,224),\n",
    "                                             batch_size=64,\n",
    "                                             class_mode='categorical')\n",
    "val_datagen = ImageDataGenerator(rescale = 1./255)\n",
    "val_gen=val_datagen.flow_from_directory(data_path + '/valid',\n",
    "                                             target_size=(224,224),\n",
    "                                             batch_size=1,\n",
    "                                             class_mode='categorical',\n",
    "                                             shuffle=False)"
   ]
  },
  {
   "cell_type": "code",
   "execution_count": 9,
   "metadata": {},
   "outputs": [],
   "source": [
    "from tensorflow.keras.models import Sequential\n",
    "from tensorflow.keras.layers import Dense\n",
    "from tensorflow.keras.regularizers import l2\n",
    "from tensorflow.keras.applications.resnet_v2 import ResNet101V2, preprocess_input\n",
    "\n",
    "model = Sequential([ResNet101V2(include_top=False,\n",
    "                             weights='imagenet',\n",
    "                             pooling='avg'),\n",
    "                    Dense(6, kernel_regularizer=tf.keras.regularizers.l2(0.01),activation='softmax')])\n",
    "model.layers[0].trainable = False"
   ]
  },
  {
   "cell_type": "code",
   "execution_count": 10,
   "metadata": {},
   "outputs": [],
   "source": [
    "opt=tf.keras.optimizers.SGD(learning_rate=0.01, momentum=0.9)"
   ]
  },
  {
   "cell_type": "code",
   "execution_count": 11,
   "metadata": {},
   "outputs": [],
   "source": [
    "model.compile(optimizer = opt,\n",
    "              loss='squared_hinge',\n",
    "              metrics=['accuracy'])"
   ]
  },
  {
   "cell_type": "code",
   "execution_count": 12,
   "metadata": {},
   "outputs": [
    {
     "name": "stdout",
     "output_type": "stream",
     "text": [
      "Model: \"sequential\"\n",
      "_________________________________________________________________\n",
      "Layer (type)                 Output Shape              Param #   \n",
      "=================================================================\n",
      "resnet101v2 (Functional)     (None, 2048)              42626560  \n",
      "_________________________________________________________________\n",
      "dense (Dense)                (None, 6)                 12294     \n",
      "=================================================================\n",
      "Total params: 42,638,854\n",
      "Trainable params: 12,294\n",
      "Non-trainable params: 42,626,560\n",
      "_________________________________________________________________\n"
     ]
    }
   ],
   "source": [
    "model.summary()"
   ]
  },
  {
   "cell_type": "code",
   "execution_count": 13,
   "metadata": {},
   "outputs": [
    {
     "name": "stdout",
     "output_type": "stream",
     "text": [
      "Epoch 1/10\n",
      "28/28 [==============================] - 292s 10s/step - loss: 1.3118 - accuracy: 0.3677 - val_loss: 1.1396 - val_accuracy: 0.6982\n",
      "Epoch 2/10\n",
      "28/28 [==============================] - 293s 11s/step - loss: 1.1324 - accuracy: 0.7222 - val_loss: 1.0942 - val_accuracy: 0.7622\n",
      "Epoch 3/10\n",
      "28/28 [==============================] - 291s 10s/step - loss: 1.0934 - accuracy: 0.7591 - val_loss: 1.0780 - val_accuracy: 0.7744\n",
      "Epoch 4/10\n",
      "28/28 [==============================] - 294s 11s/step - loss: 1.0589 - accuracy: 0.8052 - val_loss: 1.0659 - val_accuracy: 0.7805\n",
      "Epoch 5/10\n",
      "28/28 [==============================] - 293s 11s/step - loss: 1.0487 - accuracy: 0.8112 - val_loss: 1.0526 - val_accuracy: 0.7957\n",
      "Epoch 6/10\n",
      "28/28 [==============================] - 300s 11s/step - loss: 1.0330 - accuracy: 0.8255 - val_loss: 1.0383 - val_accuracy: 0.8079\n",
      "Epoch 7/10\n",
      "28/28 [==============================] - 296s 11s/step - loss: 1.0191 - accuracy: 0.8515 - val_loss: 1.0314 - val_accuracy: 0.8201\n",
      "Epoch 8/10\n",
      "28/28 [==============================] - 296s 11s/step - loss: 1.0138 - accuracy: 0.8456 - val_loss: 1.0240 - val_accuracy: 0.8232\n",
      "Epoch 9/10\n",
      "28/28 [==============================] - 300s 11s/step - loss: 1.0027 - accuracy: 0.8602 - val_loss: 1.0220 - val_accuracy: 0.8171\n",
      "Epoch 10/10\n",
      "28/28 [==============================] - 296s 11s/step - loss: 0.9996 - accuracy: 0.8561 - val_loss: 1.0122 - val_accuracy: 0.8293\n"
     ]
    }
   ],
   "source": [
    "history = model.fit(x=train_gen,validation_data=val_gen,epochs=10)"
   ]
  },
  {
   "cell_type": "code",
   "execution_count": 14,
   "metadata": {},
   "outputs": [
    {
     "data": {
      "image/png": "[encoded data removed]",
      "text/plain": [
       "<Figure size 432x288 with 1 Axes>"
      ]
     },
     "metadata": {
      "needs_background": "light"
     },
     "output_type": "display_data"
    },
    {
     "data": {
      "image/png": "[encoded data removed]",
      "text/plain": [
       "<Figure size 432x288 with 1 Axes>"
      ]
     },
     "metadata": {
      "needs_background": "light"
     },
     "output_type": "display_data"
    }
   ],
   "source": [
    "import matplotlib.pyplot as plt\n",
    "plt.plot(history.history['loss'], label='train loss')\n",
    "plt.plot(history.history['val_loss'], label='val loss')\n",
    "plt.legend()\n",
    "plt.show()\n",
    "#plt.savefig('LossVal_loss')\n",
    "\n",
    "# plot the accuracy\n",
    "plt.plot(history.history['accuracy'], label='train acc')\n",
    "plt.plot(history.history['val_accuracy'], label='val acc')\n",
    "plt.legend()\n",
    "plt.show()\n",
    "#plt.savefig('AccVal_acc')"
   ]
  },
  {
   "cell_type": "code",
   "execution_count": 15,
   "metadata": {},
   "outputs": [],
   "source": [
    "model.save('resnet101V2.h5')"
   ]
  },
  {
   "cell_type": "code",
   "execution_count": 16,
   "metadata": {},
   "outputs": [
    {
     "name": "stdout",
     "output_type": "stream",
     "text": [
      "Model: \"sequential\"\n",
      "_________________________________________________________________\n",
      "Layer (type)                 Output Shape              Param #   \n",
      "=================================================================\n",
      "resnet101v2 (Functional)     (None, 2048)              42626560  \n",
      "_________________________________________________________________\n",
      "dense (Dense)                (None, 6)                 12294     \n",
      "=================================================================\n",
      "Total params: 42,638,854\n",
      "Trainable params: 12,294\n",
      "Non-trainable params: 42,626,560\n",
      "_________________________________________________________________\n"
     ]
    }
   ],
   "source": [
    "from tensorflow.keras.models import load_model\n",
    "model=load_model('resnet101V2.h5')\n",
    "model.summary()"
   ]
  },
  {
   "cell_type": "code",
   "execution_count": 17,
   "metadata": {},
   "outputs": [
    {
     "name": "stdout",
     "output_type": "stream",
     "text": [
      "Found 431 images belonging to 6 classes.\n"
     ]
    }
   ],
   "source": [
    "data_path =\"split-garbage-dataset\"\n",
    "\n",
    "test_datagen= ImageDataGenerator(rescale=1./255)\n",
    "\n",
    "test_gen = test_datagen.flow_from_directory(data_path + '/test',\n",
    "                                              target_size=(224,224),\n",
    "                                              batch_size=1,\n",
    "                                              class_mode='categorical',\n",
    "                                              shuffle=False)"
   ]
  },
  {
   "cell_type": "code",
   "execution_count": 18,
   "metadata": {},
   "outputs": [],
   "source": [
    "y_pred = model.predict(test_gen)\n",
    "y_pred = np.argmax(y_pred, axis=1)"
   ]
  },
  {
   "cell_type": "code",
   "execution_count": 19,
   "metadata": {},
   "outputs": [
    {
     "name": "stdout",
     "output_type": "stream",
     "text": [
      "              precision    recall  f1-score   support\n",
      "\n",
      "           0       0.97      0.87      0.92        70\n",
      "           1       0.82      0.90      0.86        82\n",
      "           2       0.74      0.79      0.77        68\n",
      "           3       0.80      0.92      0.86       108\n",
      "           4       0.77      0.85      0.81        74\n",
      "           5       0.00      0.00      0.00        29\n",
      "\n",
      "    accuracy                           0.81       431\n",
      "   macro avg       0.68      0.72      0.70       431\n",
      "weighted avg       0.76      0.81      0.79       431\n",
      "\n"
     ]
    },
    {
     "name": "stderr",
     "output_type": "stream",
     "text": [
      "C:\\Anaconda\\lib\\site-packages\\sklearn\\metrics\\_classification.py:1221: UndefinedMetricWarning: Precision and F-score are ill-defined and being set to 0.0 in labels with no predicted samples. Use `zero_division` parameter to control this behavior.\n",
      "  _warn_prf(average, modifier, msg_start, len(result))\n"
     ]
    }
   ],
   "source": [
    "from sklearn.metrics import classification_report\n",
    "print(classification_report(test_gen.classes, y_pred))"
   ]
  },
  {
   "cell_type": "code",
   "execution_count": 20,
   "metadata": {},
   "outputs": [
    {
     "data": {
      "text/plain": [
       "Text(0.5, 1.0, 'Confusion matrix of model')"
      ]
     },
     "execution_count": 20,
     "metadata": {},
     "output_type": "execute_result"
    },
    {
     "data": {
      "image/png": "[encoded data removed]",
      "text/plain": [
       "<Figure size 576x360 with 2 Axes>"
      ]
     },
     "metadata": {
      "needs_background": "light"
     },
     "output_type": "display_data"
    }
   ],
   "source": [
    "from sklearn.metrics import confusion_matrix,accuracy_score\n",
    "cf_matrix = confusion_matrix(test_gen.classes, y_pred)\n",
    "import seaborn as sns\n",
    "plt.figure(figsize=(8,5))\n",
    "heatmap = sns.heatmap(cf_matrix, annot=True, fmt='d', color='blue')\n",
    "plt.xlabel('Predicted class')\n",
    "plt.ylabel('True class')\n",
    "plt.title('Confusion matrix of model')"
   ]
  },
  {
   "cell_type": "code",
   "execution_count": 21,
   "metadata": {},
   "outputs": [
    {
     "data": {
      "text/plain": [
       "0.814385150812065"
      ]
     },
     "execution_count": 21,
     "metadata": {},
     "output_type": "execute_result"
    }
   ],
   "source": [
    "accuracy_score(test_gen.classes, y_pred)"
   ]
  },
  {
   "cell_type": "code",
   "execution_count": null,
   "metadata": {},
   "outputs": [],
   "source": []
  }
 ],
 "metadata": {
  "kernelspec": {
   "display_name": "Python 3",
   "language": "python",
   "name": "python3"
  },
  "language_info": {
   "codemirror_mode": {
    "name": "ipython",
    "version": 3
   },
   "file_extension": ".py",
   "mimetype": "text/x-python",
   "name": "python",
   "nbconvert_exporter": "python",
   "pygments_lexer": "ipython3",
   "version": "3.8.5"
  }
 },
 "nbformat": 4,
 "nbformat_minor": 4
}
